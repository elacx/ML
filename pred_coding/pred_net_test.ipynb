{
 "cells": [
  {
   "cell_type": "code",
   "execution_count": 1,
   "metadata": {},
   "outputs": [
    {
     "name": "stdout",
     "output_type": "stream",
     "text": [
      "device:  cuda:0\n"
     ]
    }
   ],
   "source": [
    "# imports\n",
    "# general\n",
    "import numpy as np\n",
    "import matplotlib.pyplot as plt\n",
    "from numpy.linalg import norm\n",
    "from numpy import dot \n",
    "from sklearn.metrics import accuracy_score\n",
    "# torch\n",
    "import torch\n",
    "import torch.nn as nn\n",
    "import torch.optim as optim\n",
    "from torch.utils.data import DataLoader,random_split\n",
    "from torch.utils.data.sampler import SubsetRandomSampler\n",
    "from torch.autograd import Variable\n",
    "from torchvision.datasets import MNIST\n",
    "from torchvision import transforms\n",
    "# advertorch \n",
    "from advertorch.attacks import LinfPGDAttack\n",
    "# my nets\n",
    "from nets_ import PredNet\n",
    "# cpu / gpu\n",
    "if torch.cuda.is_available():  \n",
    "    device = 'cuda:0'\n",
    "else:  \n",
    "    device = 'cpu'\n",
    "print('device: ', device)"
   ]
  },
  {
   "cell_type": "code",
   "execution_count": 2,
   "metadata": {},
   "outputs": [],
   "source": [
    "# obtain mnist data and process\n",
    "batch_size = 128\n",
    "\n",
    "dataset = MNIST('.', train=True, download=False,transform=transforms.ToTensor())\n",
    "dataset_test = MNIST('.', train=False, download=False,transform=transforms.ToTensor())\n",
    "\n",
    "train1, train2 = random_split(dataset,[30000,30000])#DataLoader(dataset, batch_size=batch_size)\n",
    "data_loader_train1 = DataLoader(train1, batch_size=batch_size)\n",
    "data_loader_train2 = DataLoader(train2, batch_size=batch_size)\n",
    "data_loader_train_full = DataLoader(dataset, batch_size=batch_size)\n",
    "data_loader_test = DataLoader(dataset_test, batch_size=1000)"
   ]
  },
  {
   "cell_type": "code",
   "execution_count": 3,
   "metadata": {},
   "outputs": [
    {
     "name": "stdout",
     "output_type": "stream",
     "text": [
      "epoch/epochs: 10/50\n",
      "accuracy:  12.5 %\n",
      "------------------------------\n",
      "epoch/epochs: 20/50\n",
      "accuracy:  12.5 %\n",
      "------------------------------\n",
      "epoch/epochs: 30/50\n",
      "accuracy:  12.5 %\n",
      "------------------------------\n",
      "epoch/epochs: 40/50\n",
      "accuracy:  12.5 %\n",
      "------------------------------\n",
      "epoch/epochs: 50/50\n",
      "accuracy:  12.5 %\n",
      "------------------------------\n",
      "saved to ./models/network_PredNet.pth!\n"
     ]
    }
   ],
   "source": [
    "net = PredNet(dev=device)\n",
    "net.train(data_loader_train1)"
   ]
  },
  {
   "cell_type": "code",
   "execution_count": 4,
   "metadata": {},
   "outputs": [
    {
     "name": "stdout",
     "output_type": "stream",
     "text": [
      "model accuracy:  11.35 %\n"
     ]
    }
   ],
   "source": [
    "net.accuracy(data_loader_test)"
   ]
  },
  {
   "cell_type": "code",
   "execution_count": null,
   "metadata": {},
   "outputs": [],
   "source": []
  }
 ],
 "metadata": {
  "kernelspec": {
   "display_name": "Python 3",
   "language": "python",
   "name": "python3"
  },
  "language_info": {
   "codemirror_mode": {
    "name": "ipython",
    "version": 3
   },
   "file_extension": ".py",
   "mimetype": "text/x-python",
   "name": "python",
   "nbconvert_exporter": "python",
   "pygments_lexer": "ipython3",
   "version": "3.7.9"
  }
 },
 "nbformat": 4,
 "nbformat_minor": 4
}
