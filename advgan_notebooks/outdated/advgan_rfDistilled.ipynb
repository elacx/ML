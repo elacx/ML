{
 "cells": [
  {
   "cell_type": "code",
   "execution_count": null,
   "metadata": {},
   "outputs": [],
   "source": [
    "import torch\n",
    "from torch import nn\n",
    "import torch.optim as optim\n",
    "from torchvision import transforms\n",
    "from torchvision.datasets import MNIST # Training dataset\n",
    "from torchvision.utils import make_grid\n",
    "from torch.utils.data import DataLoader\n",
    "from torch.utils.data.sampler import SubsetRandomSampler\n",
    "import matplotlib.pyplot as plt\n",
    "import numpy as np"
   ]
  },
  {
   "cell_type": "code",
   "execution_count": null,
   "metadata": {},
   "outputs": [],
   "source": [
    "# obtain mnist data and process\n",
    "batch_size = 128\n",
    "num_of_classes = 10\n",
    "\n",
    "def get_indices(dataset,ind_array):\n",
    "    indices =  []\n",
    "    for i in range(len(dataset.targets)):\n",
    "        for ind in ind_array:\n",
    "            if dataset.targets[i] == ind:\n",
    "                indices.append(i)\n",
    "    return indices\n",
    "\n",
    "dataset = MNIST('.', train=True, download=False,transform=transforms.ToTensor())\n",
    "\n",
    "idx = get_indices(dataset, np.arange(num_of_classes))\n",
    "data_loader_target = DataLoader(dataset, batch_size=batch_size, sampler = SubsetRandomSampler(idx))\n",
    "data_loader_gan = DataLoader(dataset, batch_size=batch_size, sampler = SubsetRandomSampler(idx))\n",
    "\n",
    "classes = np.arange(num_of_classes)\n",
    "\n",
    "ims = []\n",
    "lls = []\n",
    "for imgs,lbls in data_loader_target:\n",
    "    for img,lbl in zip(imgs,lbls):\n",
    "        ims.append(img)\n",
    "        lls.append(lbl)\n",
    "ims = torch.stack(ims)\n",
    "lls = torch.stack(lls)"
   ]
  },
  {
   "cell_type": "code",
   "execution_count": null,
   "metadata": {
    "scrolled": false
   },
   "outputs": [],
   "source": [
    "%%time \n",
    "\n",
    "# target model\n",
    "from net_conv import target_net\n",
    "\n",
    "if torch.cuda.is_available():  \n",
    "    dev = 'cuda:0'\n",
    "else:  \n",
    "    dev = 'cpu'\n",
    "\n",
    "print('device: ', dev)\n",
    "print('-----------------------------')\n",
    "\n",
    "from sklearn.ensemble import RandomForestClassifier\n",
    "# target model\n",
    "n_estimators = 500\n",
    "rf = RandomForestClassifier(n_estimators=n_estimators)\n",
    "rf.fit(ims.reshape(len(ims),28*28).detach().numpy(),lls)\n",
    "from joblib import dump, load\n",
    "# save the model\n",
    "PATH = './target_models/rf_model'+str(num_of_classes)+'classes'+'_nest'+str(n_estimators)+'.joblib'\n",
    "dump(rf, PATH) \n",
    "# load the model\n",
    "rf = load(PATH)\n",
    "\n",
    "# accuracy of target model\n",
    "correct = 0.\n",
    "total = 0.\n",
    "for img,lbl in data_loader_gan:\n",
    "    outputs = rf.predict(img.reshape(len(img),28*28).detach().numpy())\n",
    "    total += lbl.size(0)\n",
    "    correct += sum(outputs == lbl.detach().numpy())\n",
    "print('accuracy: ', correct/total)"
   ]
  },
  {
   "cell_type": "code",
   "execution_count": null,
   "metadata": {
    "scrolled": true
   },
   "outputs": [],
   "source": [
    "from net_ import target_net\n",
    "net = target_net(num_of_classes)\n",
    "criterion_tar = nn.CrossEntropyLoss()\n",
    "optimizer = optim.SGD(net.parameters(), lr=0.001, momentum=0.9)\n",
    "\n",
    "# load the model\n",
    "net.train(data_loader_target, criterion_tar, optimizer,master_model=rf.predict)\n",
    "PATH = './target_models/rfDistilled'+str(num_of_classes)+'classes_'+str(n_estimators)+'nest.pth'\n",
    "torch.save(net.state_dict(), PATH)\n",
    "net.load_state_dict(torch.load(PATH))\n",
    "\n",
    "print('model accuracy: ', net.accuracy(data_loader_gan))"
   ]
  },
  {
   "cell_type": "code",
   "execution_count": null,
   "metadata": {},
   "outputs": [],
   "source": [
    "%%time \n",
    "from advGAN import advGAN\n",
    "advgan = advGAN(net,gen_path_extra='rfDistilled',device=dev)"
   ]
  },
  {
   "cell_type": "code",
   "execution_count": null,
   "metadata": {},
   "outputs": [],
   "source": [
    "gen,disc = advgan.train(data_loader_gan)"
   ]
  },
  {
   "cell_type": "code",
   "execution_count": null,
   "metadata": {},
   "outputs": [],
   "source": [
    "# load the generator \n",
    "gen = advgan.load_gen()"
   ]
  },
  {
   "cell_type": "code",
   "execution_count": null,
   "metadata": {},
   "outputs": [],
   "source": [
    "from sklearn.metrics import accuracy_score\n",
    "# test transferability from adv examples for the nn to the rf\n",
    "counter = 0.\n",
    "total_rf_clean = 0.\n",
    "total_nn_clean = 0.\n",
    "total_rf_adv = 0.\n",
    "total_nn_adv = 0.\n",
    "for data,label in DataLoader(dataset, batch_size=batch_size, sampler = SubsetRandomSampler(idx)):\n",
    "    rf_output_clean = rf.predict(data.reshape(len(data),28*28).detach().numpy())\n",
    "    nn_output_clean = torch.argmax(net(data.reshape(len(data),28*28)),dim=1)\n",
    "    # make adv example\n",
    "    pert = gen(data.reshape(len(data),28*28))\n",
    "    adv_img = data.reshape(len(data),28*28) + pert\n",
    "    rf_output_adv = rf.predict(adv_img.detach().numpy())\n",
    "    nn_output_adv = torch.argmax(net(adv_img),dim=1)\n",
    "    # calculate and return accuracy \n",
    "    total_rf_clean += accuracy_score(rf_output_clean,label)\n",
    "    total_nn_clean += accuracy_score(nn_output_clean,label)\n",
    "    total_rf_adv += accuracy_score(rf_output_adv,label)\n",
    "    total_nn_adv += accuracy_score(nn_output_adv,label)\n",
    "    counter += 1.\n",
    "print('rf accuracy (clean): ', total_rf_clean/counter)\n",
    "print('nn accuracy (clean): ', total_nn_clean/counter)\n",
    "print('% adv rf: ', 1.-total_rf_adv/counter)\n",
    "print('% adv nn: ', 1.-total_nn_adv/counter)"
   ]
  },
  {
   "cell_type": "code",
   "execution_count": null,
   "metadata": {},
   "outputs": [],
   "source": []
  }
 ],
 "metadata": {
  "kernelspec": {
   "display_name": "Python 3",
   "language": "python",
   "name": "python3"
  },
  "language_info": {
   "codemirror_mode": {
    "name": "ipython",
    "version": 3
   },
   "file_extension": ".py",
   "mimetype": "text/x-python",
   "name": "python",
   "nbconvert_exporter": "python",
   "pygments_lexer": "ipython3",
   "version": "3.7.3"
  }
 },
 "nbformat": 4,
 "nbformat_minor": 4
}
