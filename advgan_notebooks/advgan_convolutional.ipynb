{
 "cells": [
  {
   "cell_type": "code",
   "execution_count": 1,
   "metadata": {},
   "outputs": [],
   "source": [
    "import torch\n",
    "from torch import nn\n",
    "import torch.optim as optim\n",
    "from torchvision import transforms\n",
    "from torchvision.datasets import MNIST # Training dataset\n",
    "from torchvision.utils import make_grid\n",
    "from torch.utils.data import DataLoader\n",
    "from torch.utils.data.sampler import SubsetRandomSampler\n",
    "import matplotlib.pyplot as plt\n",
    "import numpy as np"
   ]
  },
  {
   "cell_type": "code",
   "execution_count": 2,
   "metadata": {},
   "outputs": [],
   "source": [
    "# obtain mnist data and process\n",
    "batch_size = 128\n",
    "num_of_classes = 10\n",
    "\n",
    "def get_indices(dataset,ind_array):\n",
    "    indices =  []\n",
    "    for i in range(len(dataset.targets)):\n",
    "        for ind in ind_array:\n",
    "            if dataset.targets[i] == ind:\n",
    "                indices.append(i)\n",
    "    return indices\n",
    "\n",
    "dataset = MNIST('.', train=True, download=False,transform=transforms.ToTensor())\n",
    "\n",
    "idx = get_indices(dataset, np.arange(num_of_classes))\n",
    "data_loader_target = DataLoader(dataset, batch_size=batch_size, sampler = SubsetRandomSampler(idx))\n",
    "data_loader_gan = DataLoader(dataset, batch_size=batch_size, sampler = SubsetRandomSampler(idx))\n",
    "data_loader_test = DataLoader(dataset, batch_size=batch_size, sampler = SubsetRandomSampler(idx))\n",
    "\n",
    "classes = np.arange(num_of_classes)"
   ]
  },
  {
   "cell_type": "code",
   "execution_count": 3,
   "metadata": {
    "scrolled": true
   },
   "outputs": [
    {
     "name": "stdout",
     "output_type": "stream",
     "text": [
      "model accuracy:  98.38\n"
     ]
    }
   ],
   "source": [
    "# target model\n",
    "from net_conv import target_net\n",
    "\n",
    "net = target_net(num_of_classes)\n",
    "criterion_tar = nn.CrossEntropyLoss()\n",
    "optimizer = optim.SGD(net.parameters(), lr=0.001, momentum=0.9)\n",
    "\n",
    "PATH = './target_models/basic_net_convolutional_'+str(num_of_classes)+'classes.pth'\n",
    "# train and and save the model\n",
    "#net.train(data_loader_target, criterion_tar, optimizer)\n",
    "#torch.save(net.state_dict(), PATH)\n",
    "# load the model\n",
    "net = target_net(num_of_classes)\n",
    "net.load_state_dict(torch.load(PATH))\n",
    "\n",
    "print('model accuracy: ', net.accuracy(data_loader_gan))"
   ]
  },
  {
   "cell_type": "code",
   "execution_count": 4,
   "metadata": {},
   "outputs": [],
   "source": [
    "from advGAN_conv import advGAN\n",
    "advgan = advGAN(net,gen_path_extra='basic_advgan')"
   ]
  },
  {
   "cell_type": "code",
   "execution_count": null,
   "metadata": {},
   "outputs": [
    {
     "name": "stderr",
     "output_type": "stream",
     "text": [
      "/home/elacker/Desktop/ExML/exmlenv/lib64/python3.7/site-packages/torch/autograd/__init__.py:132: UserWarning: CUDA initialization: Found no NVIDIA driver on your system. Please check that you have an NVIDIA GPU and installed a driver from http://www.nvidia.com/Download/index.aspx (Triggered internally at  /pytorch/c10/cuda/CUDAFunctions.cpp:100.)\n",
      "  allow_unreachable=True)  # allow_unreachable flag\n"
     ]
    }
   ],
   "source": [
    "# train the gen/disc\n",
    "gen,disc = advgan.train(data_loader_gan)"
   ]
  },
  {
   "cell_type": "code",
   "execution_count": null,
   "metadata": {},
   "outputs": [],
   "source": [
    "# load the generator \n",
    "gen = advgan.load_gen()"
   ]
  },
  {
   "cell_type": "code",
   "execution_count": null,
   "metadata": {},
   "outputs": [],
   "source": [
    "from sklearn.metrics import accuracy_score\n",
    "\n",
    "def one_batch(data,num=1):\n",
    "    for i,(img,lbl) in enumerate(data):\n",
    "        if i == num:\n",
    "            return img,lbl\n",
    "            break\n",
    "\n",
    "images,labels = one_batch(data_loader_test,num=1)\n",
    "perts = gen(images.reshape(len(images),28*28))\n",
    "adv_images = images.reshape(len(images),28*28) + perts\n",
    "net_out = net(images.reshape(len(images),28*28))\n",
    "adv_pred = net(adv_images)\n",
    "\n",
    "print('% wrong: ',1.-accuracy_score(labels,torch.argmax(adv_pred,dim=1)))\n",
    "print('-----------------------------------------')\n",
    "for img,lbl,adimg,out,adpred,p in zip(images,labels,adv_images,net_out,adv_pred,perts):\n",
    "    print('target model output: ', int(torch.argmax(out).detach()))\n",
    "    print('target model output on adv example: ', int(torch.argmax(adpred).detach()))\n",
    "    print('frobenius norm of pertubation: ',float(torch.norm(p,'fro').detach()))\n",
    "    fig, (ax1, ax2) = plt.subplots(1, 2)\n",
    "    fig.suptitle('actual label: '+str(int(lbl.detach())))\n",
    "    ax1.imshow(img.reshape(28,28).detach().numpy(),cmap='gray')\n",
    "    ax2.imshow(adimg.reshape(28,28).detach().numpy(),cmap='gray')\n",
    "    plt.show()\n"
   ]
  },
  {
   "cell_type": "code",
   "execution_count": null,
   "metadata": {},
   "outputs": [],
   "source": []
  },
  {
   "cell_type": "code",
   "execution_count": null,
   "metadata": {},
   "outputs": [],
   "source": []
  }
 ],
 "metadata": {
  "kernelspec": {
   "display_name": "Python 3",
   "language": "python",
   "name": "python3"
  },
  "language_info": {
   "codemirror_mode": {
    "name": "ipython",
    "version": 3
   },
   "file_extension": ".py",
   "mimetype": "text/x-python",
   "name": "python",
   "nbconvert_exporter": "python",
   "pygments_lexer": "ipython3",
   "version": "3.7.9"
  }
 },
 "nbformat": 4,
 "nbformat_minor": 4
}
