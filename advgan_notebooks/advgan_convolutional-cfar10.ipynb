{
 "cells": [
  {
   "cell_type": "code",
   "execution_count": null,
   "metadata": {},
   "outputs": [],
   "source": [
    "import torch\n",
    "from torch import nn\n",
    "import torch.optim as optim\n",
    "from torchvision import transforms\n",
    "from torchvision.datasets import CIFAR10 # Training dataset\n",
    "from torchvision.utils import make_grid\n",
    "from torch.utils.data import DataLoader\n",
    "from torch.utils.data.sampler import SubsetRandomSampler\n",
    "import matplotlib.pyplot as plt\n",
    "import numpy as np"
   ]
  },
  {
   "cell_type": "code",
   "execution_count": null,
   "metadata": {},
   "outputs": [],
   "source": [
    "# obtain cfar10 data and process\n",
    "\n",
    "transform = transforms.Compose(\n",
    "    [transforms.ToTensor(),\n",
    "     transforms.Normalize((0.5, 0.5, 0.5), (0.5, 0.5, 0.5))])\n",
    "\n",
    "trainset = CIFAR10(root='./data', train=True,\n",
    "                                        download=False, transform=transform)\n",
    "data_loader_target = torch.utils.data.DataLoader(trainset, batch_size=150,\n",
    "                                          shuffle=True, num_workers=0)\n",
    "data_loader_gan = torch.utils.data.DataLoader(trainset, batch_size=150,\n",
    "                                         shuffle=True, num_workers=0)\n",
    "testset = CIFAR10(root='./data', train=False,\n",
    "                                       download=False, transform=transform)\n",
    "data_loader_test = torch.utils.data.DataLoader(trainset, batch_size=75,\n",
    "                                         shuffle=True, num_workers=0)\n",
    "\n",
    "classes = ('plane', 'car', 'bird', 'cat',\n",
    "           'deer', 'dog', 'frog', 'horse', 'ship', 'truck')\n",
    "num_of_classes = len(classes)"
   ]
  },
  {
   "cell_type": "code",
   "execution_count": null,
   "metadata": {
    "scrolled": false
   },
   "outputs": [],
   "source": [
    "%%time \n",
    "\n",
    "# target model, resnet model from \n",
    "# https://github.com/kuangliu/pytorch-cifar\n",
    "from net_conv_cifar import target_net, BasicBlock\n",
    "\n",
    "if torch.cuda.is_available():  \n",
    "    dev = 'cuda:0'\n",
    "else:  \n",
    "    dev = 'cpu'\n",
    "\n",
    "print('device: ', dev)\n",
    "print('-----------------------------')\n",
    "\n",
    "net = target_net(BasicBlock, [2, 2, 2, 2]).to(dev)\n",
    "criterion_tar = nn.CrossEntropyLoss()\n",
    "optimizer = optim.SGD(net.parameters(), lr=0.001, momentum=0.9)\n",
    "\n",
    "PATH = './target_models/basic_net_convolutional_CIFAR_device-'+dev+'.pth'\n",
    "# train and and save the model\n",
    "#net.train(data_loader_target, criterion_tar, optimizer, dev, 50)\n",
    "#torch.save(net.state_dict(), PATH)\n",
    "# load the model\n",
    "net = target_net(BasicBlock, [2, 2, 2, 2]).to(dev)\n",
    "net.load_state_dict(torch.load(PATH),dev)\n",
    "\n",
    "print('model accuracy: ', net.accuracy(data_loader_test,dev))"
   ]
  },
  {
   "cell_type": "code",
   "execution_count": null,
   "metadata": {},
   "outputs": [],
   "source": [
    "from advGAN_conv_cifar import advGAN\n",
    "advgan = advGAN(net,disc_coeff=49.,hinge_coeff=77.,adv_coeff=10.,c=0.2,gen_path_extra='basic_advgan_conv_CIFAR10',device=dev)"
   ]
  },
  {
   "cell_type": "code",
   "execution_count": null,
   "metadata": {
    "scrolled": true
   },
   "outputs": [],
   "source": [
    "%%time\n",
    "# train the gen/disc\n",
    "gen,disc = advgan.train(data_loader_gan)"
   ]
  },
  {
   "cell_type": "code",
   "execution_count": null,
   "metadata": {},
   "outputs": [],
   "source": [
    "# load the generator \n",
    "gen = advgan.load_gen()"
   ]
  },
  {
   "cell_type": "code",
   "execution_count": null,
   "metadata": {},
   "outputs": [],
   "source": [
    "from sklearn.metrics import accuracy_score\n",
    "\n",
    "def one_batch(data,num=1):\n",
    "    for i,(img,lbl) in enumerate(data):\n",
    "        if i == num:\n",
    "            return img,lbl\n",
    "            break\n",
    "\n",
    "images,labels = one_batch(data_loader_test,num=1)\n",
    "perts = gen(images.to(dev))\n",
    "adv_images = (images.to(dev) + perts).to(dev)\n",
    "net_out = net(images.to(dev)).to(dev)\n",
    "adv_pred = net(adv_images).to(dev)\n",
    "\n",
    "print('% wrong: ',1.-accuracy_score(labels.cpu(),torch.argmax(adv_pred,dim=1).cpu()))\n",
    "print('-----------------------------------------')\n",
    "for img,lbl,adimg,out,adpred,p in zip(images,labels,adv_images,net_out,adv_pred,perts):\n",
    "    print('target model output: ', int(torch.argmax(out).detach()))\n",
    "    print('target model output on adv example: ', int(torch.argmax(adpred).detach()))\n",
    "    print('frobenius norm of pertubation: ',float(torch.norm(p,'fro').detach()))\n",
    "    fig, (ax1, ax2) = plt.subplots(1, 2)\n",
    "    fig.suptitle('actual label: '+str(int(lbl.detach())))\n",
    "    ax1.imshow(img.reshape(28,28).detach().numpy(),cmap='gray')\n",
    "    ax2.imshow(adimg.reshape(28,28).cpu().detach().numpy(),cmap='gray')\n",
    "    plt.show()\n"
   ]
  },
  {
   "cell_type": "code",
   "execution_count": null,
   "metadata": {},
   "outputs": [],
   "source": []
  },
  {
   "cell_type": "code",
   "execution_count": null,
   "metadata": {},
   "outputs": [],
   "source": [
    "import torch.nn as nn\n",
    "import torch.nn.functional as F\n",
    "import torch\n",
    "\n",
    "img = torch.rand((5,1,28,28))"
   ]
  },
  {
   "cell_type": "code",
   "execution_count": null,
   "metadata": {},
   "outputs": [],
   "source": [
    "class Generator(nn.Module):\n",
    "    def __init__(self, image_nc=1,ngf = 18):\n",
    "        super(Generator, self).__init__()\n",
    "        self.conv1 = nn.Conv2d(1,1,9)\n",
    "        self.pool1 = nn.MaxPool2d(2,1) \n",
    "        self.conv2 = nn.Conv2d(1,1,7)\n",
    "        self.pool2 = nn.MaxPool2d(2,1)\n",
    "\n",
    "        self.fc1 = nn.Linear(144,100)\n",
    "        self.fc2 = nn.Linear(100,64) \n",
    "\n",
    "        self.c2 = nn.ConvTranspose2d(1,1,7)\n",
    "        self.norm2 = nn.BatchNorm2d(1)\n",
    "        self.c1 = nn.ConvTranspose2d(1,1,11)\n",
    "        self.norm1 = nn.BatchNorm2d(1)\n",
    "        self.c0 = nn.ConvTranspose2d(1,1,5)\n",
    "\n",
    "    def forward(self,x):\n",
    "        leaky_relu = nn.LeakyReLU(.2)\n",
    "        relu = nn.ReLU()\n",
    "        tanh = nn.Tanh()\n",
    "        # convolution part\n",
    "        x = leaky_relu(self.pool1(self.conv1(x)))\n",
    "        x = leaky_relu(self.pool2(self.conv2(x)))\n",
    "        x = x.reshape(x.shape[0],x.shape[-1]**2)\n",
    "        # linear part\n",
    "        x = leaky_relu(self.fc1(x))\n",
    "        x = leaky_relu(self.fc2(x))\n",
    "        x = x.reshape(x.shape[0],1,8,8)\n",
    "        # transpose conv part\n",
    "        x = relu(self.norm2(self.c2(x)))\n",
    "        x = relu(self.norm1(self.c1(x)))\n",
    "        x = tanh(self.c0(x))\n",
    "        return x\n",
    "\n",
    "class Discriminator(nn.Module):\n",
    "    def __init__(self, image_nc=1):\n",
    "        super(Discriminator, self).__init__()\n",
    "        self.conv1 = nn.Conv2d(1,1,7)\n",
    "        self.pool1 = nn.MaxPool2d(1,1) \n",
    "        self.conv2 = nn.Conv2d(1,1,7)\n",
    "        self.pool2 = nn.MaxPool2d(1,2)  \n",
    "        self.fc1 = nn.Linear(8*8,32) \n",
    "        self.fc2 = nn.Linear(32,16) \n",
    "        self.fc3 = nn.Linear(16,1) \n",
    "\n",
    "    def forward(self, x):\n",
    "        leaky_relu = nn.LeakyReLU(.2)\n",
    "        x = leaky_relu(self.pool1(self.conv1(x)))\n",
    "        x = leaky_relu(self.pool2(self.conv2(x)))\n",
    "        x = x.reshape(x.shape[0],x.shape[-1]**2)\n",
    "        x = leaky_relu(self.fc1(x))\n",
    "        x = leaky_relu(self.fc2(x))\n",
    "        x = leaky_relu(self.fc3(x))\n",
    "        return x\n",
    "    \n",
    "gen = Generator()\n",
    "disc = Discriminator()"
   ]
  },
  {
   "cell_type": "code",
   "execution_count": null,
   "metadata": {},
   "outputs": [],
   "source": [
    "x = img\n",
    "\n",
    "disc(x).shape\n",
    "\n",
    "# conv1 = nn.Conv2d(1,1,7)\n",
    "# pool1 = nn.MaxPool2d(1,1) \n",
    "# conv2 = nn.Conv2d(1,1,7)\n",
    "# pool2 = nn.MaxPool2d(1,2) \n",
    "# x = pool2(conv2(pool1(conv1(x))))\n",
    "# x = x.reshape(x.shape[0],x.shape[-1]**2)\n",
    "\n",
    "# fc1 = nn.Linear(8*8,32) \n",
    "# fc2 = nn.Linear(32,16) \n",
    "# fc3 = nn.Linear(16,1) \n",
    "\n",
    "# x = fc3(fc2(fc1(x)))\n",
    "\n",
    "# x.shape"
   ]
  },
  {
   "cell_type": "code",
   "execution_count": null,
   "metadata": {},
   "outputs": [],
   "source": []
  },
  {
   "cell_type": "code",
   "execution_count": null,
   "metadata": {},
   "outputs": [],
   "source": []
  }
 ],
 "metadata": {
  "kernelspec": {
   "display_name": "Python 3",
   "language": "python",
   "name": "python3"
  },
  "language_info": {
   "codemirror_mode": {
    "name": "ipython",
    "version": 3
   },
   "file_extension": ".py",
   "mimetype": "text/x-python",
   "name": "python",
   "nbconvert_exporter": "python",
   "pygments_lexer": "ipython3",
   "version": "3.7.9"
  }
 },
 "nbformat": 4,
 "nbformat_minor": 4
}
