{
 "cells": [
  {
   "cell_type": "code",
   "execution_count": 6,
   "metadata": {},
   "outputs": [
    {
     "name": "stdout",
     "output_type": "stream",
     "text": [
      "device:  cuda:0\n"
     ]
    }
   ],
   "source": [
    "# imports\n",
    "# general\n",
    "import numpy as np\n",
    "import matplotlib.pyplot as plt\n",
    "from numpy.linalg import norm\n",
    "from numpy import dot \n",
    "from sklearn.metrics import accuracy_score\n",
    "# torch\n",
    "import torch\n",
    "import torch.nn as nn\n",
    "import torch.nn.functional as F\n",
    "import torch.optim as optim\n",
    "from torch.utils.data import DataLoader,random_split\n",
    "from torch.utils.data.sampler import SubsetRandomSampler\n",
    "from torchvision.utils import make_grid\n",
    "from torch.autograd import Variable\n",
    "from torchvision.datasets import MNIST\n",
    "from torchvision import transforms\n",
    "from torch.autograd import Function\n",
    "from torch.nn.parameter import Parameter \n",
    "# lime\n",
    "import lime\n",
    "import lime.lime_tabular\n",
    "# advertorch \n",
    "from advertorch.attacks import LinfPGDAttack\n",
    "# net classes\n",
    "from nets_test import Net,CNet\n",
    "# cpu / gpu\n",
    "if torch.cuda.is_available():  \n",
    "    device = 'cuda:0'\n",
    "else:  \n",
    "    device = 'cpu'\n",
    "print('device: ', device)\n",
    "\n",
    "# functions\n",
    "def transform_data(data_loader_obj):\n",
    "    ims = []\n",
    "    lls = []\n",
    "    for imgs,lbls in data_loader_obj:\n",
    "        for img,lbl in zip(imgs,lbls):\n",
    "            ims.append(img)\n",
    "            lls.append(lbl)\n",
    "    ims = torch.stack(ims)\n",
    "    lls = torch.stack(lls)\n",
    "    return ims,lls\n",
    "\n",
    "def show_tensor_images(image_tensor, num_images=25):\n",
    "    image_tensor = image_tensor.reshape(image_tensor.shape[0],1,28,28).cpu().detach()\n",
    "    size = (1,28,28)\n",
    "    image_unflat = image_tensor.detach().view(-1, *size)\n",
    "    image_grid = make_grid(image_unflat[:num_images], nrow=5)\n",
    "    plt.imshow(image_grid.permute(1, 2, 0).squeeze())\n",
    "    plt.show()"
   ]
  },
  {
   "cell_type": "code",
   "execution_count": 7,
   "metadata": {},
   "outputs": [],
   "source": [
    "# new activation functions =0\n",
    "\n",
    "class Sine_Activation(nn.Module):\n",
    "    def __init__(self,f=1.):\n",
    "        super(Sine_Activation,self).__init__()\n",
    "        self.f = Parameter(torch.tensor(f))\n",
    "        self.f.requiresgrad = True\n",
    " \n",
    "    def forward(self,x):\n",
    "        return torch.sin(self.f*x) +torch.ones(x.shape).to(device)+torch.normal(0,.25,x.shape).to(device) #torch.sin(((2.*np.pi)/self.f)*x)\n",
    "    \n",
    "    \n",
    "class Noisey_ReLU(nn.Module):\n",
    "    def __init__(self):\n",
    "        super(Noisey_ReLU,self).__init__()\n",
    "    \n",
    "    def forward(self,x):\n",
    "        return torch.max(torch.zeros(x.shape).to(device),x)-1.33*torch.rand(x.shape).to(device)#+torch.normal(0,1,x.shape).to(device)\n",
    "        "
   ]
  },
  {
   "cell_type": "code",
   "execution_count": 8,
   "metadata": {},
   "outputs": [],
   "source": [
    "# obtain mnist data and process\n",
    "batch_size = 128\n",
    "\n",
    "dataset = MNIST('.', train=True, download=False,transform=transforms.ToTensor())\n",
    "dataset_test = MNIST('.', train=False, download=False,transform=transforms.ToTensor())\n",
    "\n",
    "train1, train2 = random_split(dataset,[30000,30000])#DataLoader(dataset, batch_size=batch_size)\n",
    "data_loader_train1 = DataLoader(train1, batch_size=batch_size)\n",
    "data_loader_train2 = DataLoader(train2, batch_size=batch_size)\n",
    "data_loader_test = DataLoader(dataset_test, batch_size=1000)"
   ]
  },
  {
   "cell_type": "code",
   "execution_count": 10,
   "metadata": {},
   "outputs": [
    {
     "name": "stdout",
     "output_type": "stream",
     "text": [
      "epoch/epochs: 10/50\n",
      "accuracy:  77.08333 %\n",
      "------------------------------\n",
      "epoch/epochs: 20/50\n",
      "accuracy:  95.83333 %\n",
      "------------------------------\n",
      "epoch/epochs: 30/50\n",
      "accuracy:  97.91667 %\n",
      "------------------------------\n",
      "epoch/epochs: 40/50\n",
      "accuracy:  97.91667 %\n",
      "------------------------------\n",
      "epoch/epochs: 50/50\n",
      "accuracy:  97.91667 %\n",
      "------------------------------\n",
      "saved to ./models/network1_noiseyRelu[784, 256, 64, 32].pth!\n",
      "model accuracy:  94.83 %\n"
     ]
    }
   ],
   "source": [
    "net_nr = Net([784,256,64,32],activation_func=Noisey_ReLU(),dev=device,path_info='noiseyRelu')\n",
    "net_nr.train(data_loader_train1)\n",
    "net_nr.accuracy(data_loader_test)"
   ]
  },
  {
   "cell_type": "code",
   "execution_count": 11,
   "metadata": {
    "scrolled": true
   },
   "outputs": [
    {
     "name": "stdout",
     "output_type": "stream",
     "text": [
      "----------------------------------------------------------------\n",
      "        Layer (type)               Output Shape         Param #\n",
      "================================================================\n",
      "            Linear-1                  [-1, 256]         200,960\n",
      "       BatchNorm1d-2                  [-1, 256]             512\n",
      "       Noisey_ReLU-3                  [-1, 256]               0\n",
      "       Noisey_ReLU-4                  [-1, 256]               0\n",
      "       Noisey_ReLU-5                  [-1, 256]               0\n",
      "       Noisey_ReLU-6                  [-1, 256]               0\n",
      "            Linear-7                   [-1, 64]          16,448\n",
      "       BatchNorm1d-8                   [-1, 64]             128\n",
      "       Noisey_ReLU-9                   [-1, 64]               0\n",
      "      Noisey_ReLU-10                   [-1, 64]               0\n",
      "      Noisey_ReLU-11                   [-1, 64]               0\n",
      "      Noisey_ReLU-12                   [-1, 64]               0\n",
      "           Linear-13                   [-1, 32]           2,080\n",
      "      BatchNorm1d-14                   [-1, 32]              64\n",
      "      Noisey_ReLU-15                   [-1, 32]               0\n",
      "      Noisey_ReLU-16                   [-1, 32]               0\n",
      "      Noisey_ReLU-17                   [-1, 32]               0\n",
      "      Noisey_ReLU-18                   [-1, 32]               0\n",
      "           Linear-19                   [-1, 10]             330\n",
      "          Softmax-20                   [-1, 10]               0\n",
      "================================================================\n",
      "Total params: 220,522\n",
      "Trainable params: 220,522\n",
      "Non-trainable params: 0\n",
      "----------------------------------------------------------------\n",
      "Input size (MB): 0.00\n",
      "Forward/backward pass size (MB): 0.02\n",
      "Params size (MB): 0.84\n",
      "Estimated Total Size (MB): 0.86\n",
      "----------------------------------------------------------------\n",
      "Net(\n",
      "  (activation_func): Noisey_ReLU()\n",
      "  (fc_linears): ModuleList(\n",
      "    (0): Sequential(\n",
      "      (0): Linear(in_features=784, out_features=256, bias=True)\n",
      "      (1): BatchNorm1d(256, eps=1e-05, momentum=0.1, affine=True, track_running_stats=True)\n",
      "      (2): Noisey_ReLU()\n",
      "    )\n",
      "    (1): Sequential(\n",
      "      (0): Linear(in_features=256, out_features=64, bias=True)\n",
      "      (1): BatchNorm1d(64, eps=1e-05, momentum=0.1, affine=True, track_running_stats=True)\n",
      "      (2): Noisey_ReLU()\n",
      "    )\n",
      "    (2): Sequential(\n",
      "      (0): Linear(in_features=64, out_features=32, bias=True)\n",
      "      (1): BatchNorm1d(32, eps=1e-05, momentum=0.1, affine=True, track_running_stats=True)\n",
      "      (2): Noisey_ReLU()\n",
      "    )\n",
      "  )\n",
      "  (f_final): Sequential(\n",
      "    (0): Linear(in_features=32, out_features=10, bias=True)\n",
      "    (1): Softmax(dim=1)\n",
      "  )\n",
      ")\n",
      "------------------------------------------------------------\n"
     ]
    }
   ],
   "source": [
    "net_nr.summary()"
   ]
  },
  {
   "cell_type": "code",
   "execution_count": null,
   "metadata": {},
   "outputs": [],
   "source": []
  }
 ],
 "metadata": {
  "kernelspec": {
   "display_name": "Python 3",
   "language": "python",
   "name": "python3"
  },
  "language_info": {
   "codemirror_mode": {
    "name": "ipython",
    "version": 3
   },
   "file_extension": ".py",
   "mimetype": "text/x-python",
   "name": "python",
   "nbconvert_exporter": "python",
   "pygments_lexer": "ipython3",
   "version": "3.7.9"
  }
 },
 "nbformat": 4,
 "nbformat_minor": 4
}
